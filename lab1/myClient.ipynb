{
 "cells": [
  {
   "cell_type": "markdown",
   "metadata": {},
   "source": [
    "# Running server and client in separate notebooks - client part\n",
    "\n",
    "Here we start the client. The server needs to be started first. Lets go...."
   ]
  },
  {
   "cell_type": "code",
   "execution_count": 1,
   "metadata": {},
   "outputs": [
    {
     "name": "stderr",
     "output_type": "stream",
     "text": [
      "2025-04-17 13:35:24,762 - vs2lab.a1_layers.clientserver.Client - INFO - Client connected to socket <socket.socket fd=57, family=2, type=1, proto=0, laddr=('127.0.0.1', 47544), raddr=('127.0.0.1', 50007)>\n"
     ]
    }
   ],
   "source": [
    "#initialize\n",
    "\n",
    "import myClientserver # import from our script\n",
    "\n",
    "client = myClientserver.Client() # Create a client instance"
   ]
  },
  {
   "cell_type": "code",
   "execution_count": null,
   "metadata": {},
   "outputs": [],
   "source": [
    "# GET: request number for name\n",
    "\n",
    "name = input(\"Request Phone Number for name: \")\n",
    "\n",
    "client.call_search(name) # start the call and print the number"
   ]
  },
  {
   "cell_type": "markdown",
   "metadata": {},
   "source": [
    "Finished."
   ]
  },
  {
   "cell_type": "code",
   "execution_count": 3,
   "metadata": {},
   "outputs": [
    {
     "name": "stderr",
     "output_type": "stream",
     "text": [
      "2025-04-10 13:49:12,544 - vs2lab.a1_layers.clientserver.Client - INFO - GET ALL called\n"
     ]
    },
    {
     "name": "stdout",
     "output_type": "stream",
     "text": [
      "{'mustermann': 71743, 'musterfrau': 12345, 'lustig': 55467, 'traurig': 11987, 'mueller': 22387, 'fischer': 23454}\n"
     ]
    }
   ],
   "source": [
    "# GETALL: request all numbers\n",
    "\n",
    "client.call_all() # start the call and print all numbers"
   ]
  },
  {
   "cell_type": "code",
   "execution_count": null,
   "metadata": {},
   "outputs": [],
   "source": [
    "# close Socket\n",
    "\n",
    "client.close()"
   ]
  }
 ],
 "metadata": {
  "kernelspec": {
   "display_name": "Python 3 (ipykernel)",
   "language": "python",
   "name": "python3"
  },
  "language_info": {
   "codemirror_mode": {
    "name": "ipython",
    "version": 3
   },
   "file_extension": ".py",
   "mimetype": "text/x-python",
   "name": "python",
   "nbconvert_exporter": "python",
   "pygments_lexer": "ipython3",
   "version": "3.11.4"
  }
 },
 "nbformat": 4,
 "nbformat_minor": 4
}
